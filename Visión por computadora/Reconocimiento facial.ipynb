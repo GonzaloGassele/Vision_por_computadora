{
 "cells": [
  {
   "cell_type": "code",
   "execution_count": 1,
   "metadata": {},
   "outputs": [],
   "source": [
    "import cv2\n",
    "import face_recognition\n",
    "import uuid"
   ]
  },
  {
   "cell_type": "code",
   "execution_count": 2,
   "metadata": {},
   "outputs": [
    {
     "name": "stdout",
     "output_type": "stream",
     "text": [
      "Foto tomada correctamente con el nombre Gonzalo.png\n"
     ]
    }
   ],
   "source": [
    "cap = cv2.VideoCapture(0)\n",
    "leido, frame = cap.read()\n",
    "\n",
    "if leido == True:\n",
    "\tnombre_foto = str('Gonzalo') + \".png\" # uuid4 regresa un objeto, no una cadena. Por eso lo convertimos\n",
    "\tcv2.imwrite(nombre_foto, frame)\n",
    "\tprint(\"Foto tomada correctamente con el nombre {}\".format(nombre_foto))\n",
    "else:\n",
    "\tprint(\"Error al acceder a la cámara\")\n",
    "\n",
    "\"\"\"\n",
    "\tFinalmente liberamos o soltamos la cámara\n",
    "\"\"\"\n",
    "cap.release()"
   ]
  },
  {
   "cell_type": "code",
   "execution_count": 3,
   "metadata": {},
   "outputs": [],
   "source": [
    "#Cargar la imagen de ejemplo con nuestro rostro:\n",
    "imagen_gonzalo = face_recognition.load_image_file(\"Gonzalo.png\")"
   ]
  },
  {
   "cell_type": "code",
   "execution_count": 10,
   "metadata": {},
   "outputs": [
    {
     "name": "stdout",
     "output_type": "stream",
     "text": [
      "\n",
      "Recordatorio: pulsa 'ESC' para cerrar.\n",
      "\n"
     ]
    },
    {
     "ename": "KeyboardInterrupt",
     "evalue": "",
     "output_type": "error",
     "traceback": [
      "\u001b[0;31m---------------------------------------------------------------------------\u001b[0m",
      "\u001b[0;31mKeyboardInterrupt\u001b[0m                         Traceback (most recent call last)",
      "\u001b[0;32m<ipython-input-10-e7ddccb4b63e>\u001b[0m in \u001b[0;36m<module>\u001b[0;34m()\u001b[0m\n\u001b[1;32m     39\u001b[0m \u001b[0;34m\u001b[0m\u001b[0m\n\u001b[1;32m     40\u001b[0m     \u001b[0;31m#Capturamos una imagen con la webcam:\u001b[0m\u001b[0;34m\u001b[0m\u001b[0;34m\u001b[0m\u001b[0;34m\u001b[0m\u001b[0m\n\u001b[0;32m---> 41\u001b[0;31m     \u001b[0mvalido\u001b[0m\u001b[0;34m,\u001b[0m \u001b[0mimg\u001b[0m \u001b[0;34m=\u001b[0m \u001b[0mwebcam\u001b[0m\u001b[0;34m.\u001b[0m\u001b[0mread\u001b[0m\u001b[0;34m(\u001b[0m\u001b[0;34m)\u001b[0m\u001b[0;34m\u001b[0m\u001b[0;34m\u001b[0m\u001b[0m\n\u001b[0m\u001b[1;32m     42\u001b[0m \u001b[0;34m\u001b[0m\u001b[0m\n\u001b[1;32m     43\u001b[0m     \u001b[0;31m#Si la imagen es válida (es decir, si se ha capturado correctamente), continuamos:\u001b[0m\u001b[0;34m\u001b[0m\u001b[0;34m\u001b[0m\u001b[0;34m\u001b[0m\u001b[0m\n",
      "\u001b[0;31mKeyboardInterrupt\u001b[0m: "
     ]
    }
   ],
   "source": [
    "Extraer los 'encodings' que caracterizan nuestro rostro:\n",
    "gonzalo_encodings = face_recognition.face_encodings(imagen_gonzalo)[0]\n",
    "Definir un array con los encodings y nuestro nombre:\n",
    "encodings_conocidos = [\n",
    "    #gonzalo_encodings\n",
    "#]\n",
    "nombres_conocidos = [\n",
    "    \n",
    "]\n",
    "# NOTA: Como solo queremos identificarnos a nosotros mismos, en realidad no sería necesario definir un array.\n",
    "# Lo he hecho así para imitar la estructura del código del ejemplo anterior, y para que sea fácil añadir\n",
    "# nuevos rostros (vuestra pareja o hijos, por ejemplo).\n",
    " \n",
    " \n",
    "#Iniciar la webcam:\n",
    "webcam = cv2.VideoCapture(0)\n",
    "# NOTA: Si no funciona puedes cambiar el índice '0' por otro, o cambiarlo por la dirección de tu webcam.\n",
    " \n",
    " \n",
    "#Cargar una fuente de texto:\n",
    "font = cv2.FONT_HERSHEY_COMPLEX\n",
    " \n",
    " \n",
    "# Identificar rostros es un proceso costoso. Para poder hacerlo en tiempo real sin que haya retardo\n",
    "# vamos a reducir el tamaño de la imagen de la webcam. Esta variable 'reduccion' indica cuanto se va a reducir:\n",
    "reduccion = 7 #Con un 5, la imagen se reducirá a 1/5 del tamaño original\n",
    " \n",
    " \n",
    "#Recordamos al usuario cuál es la tecla para salir:\n",
    "print(\"\\nRecordatorio: pulsa 'ESC' para cerrar.\\n\")\n",
    " \n",
    " \n",
    "while 1:\n",
    "    #Definimos algunos arrays y variables:\n",
    "    loc_rostros = [] #Localizacion de los rostros en la imagen\n",
    "    encodings_rostros = [] #Encodings de los rostros\n",
    "    nombres_rostros = [] #Nombre de la persona de cada rostro\n",
    "    nombre = \"\" #Variable para almacenar el nombre\n",
    " \n",
    "    #Capturamos una imagen con la webcam:\n",
    "    valido, img = webcam.read()\n",
    " \n",
    "    #Si la imagen es válida (es decir, si se ha capturado correctamente), continuamos:\n",
    "    if valido:\n",
    " \n",
    "        #La imagen está en el espacio de color BGR, habitual de OpenCV. Hay que convertirla a RGB:\n",
    "        img_rgb = img[:, :, ::-1]\n",
    " \n",
    "        #Reducimos el tamaño de la imagen para que sea más rápida de procesar:\n",
    "        img_rgb = cv2.resize(img_rgb, (0, 0), fx=1.0/reduccion, fy=1.0/reduccion)\n",
    " \n",
    "        #Localizamos cada rostro de la imagen y extraemos sus encodings:\n",
    "        loc_rostros = face_recognition.face_locations(img_rgb)\n",
    "        encodings_rostros = face_recognition.face_encodings(img_rgb, loc_rostros)\n",
    " \n",
    "        #Recorremos el array de encodings que hemos encontrado:\n",
    "        for encoding in encodings_rostros:\n",
    " \n",
    "            #Buscamos si hay alguna coincidencia con algún encoding conocido:\n",
    "            coincidencias = face_recognition.compare_faces(encodings_conocidos, encoding)\n",
    " \n",
    "            #El array 'coincidencias' es ahora un array de booleanos. Si contiene algun 'True', es que ha habido alguna coincidencia:\n",
    "            if True in coincidencias:\n",
    "                nombre = nombres_conocidos[coincidencias.index(True)]\n",
    " \n",
    "            #Si no hay ningún 'True' en el array 'coincidencias', no se ha podido identificar el rostro:\n",
    "            else:\n",
    "                nombre = \"???\"\n",
    " \n",
    "            #Añadir el nombre de la persona identificada en el array de nombres:\n",
    "            nombres_rostros.append(nombre)\n",
    " \n",
    "        #Dibujamos un recuadro rojo alrededor de los rostros desconocidos, y uno verde alrededor de los conocidos:\n",
    "        for (top, right, bottom, left), nombre in zip(loc_rostros, nombres_rostros):\n",
    "             \n",
    "            #Deshacemos la reducción de tamaño para tener las coordenadas de la imagen original:\n",
    "            top = top*reduccion\n",
    "            right = right*reduccion\n",
    "            bottom = bottom*reduccion\n",
    "            left = left*reduccion\n",
    " \n",
    "            #Cambiar de color según si se ha identificado el rostro:\n",
    "            if nombre != \"???\":\n",
    "                color = (0,255,0)\n",
    "            else:\n",
    "                color = (0,0,255)\n",
    " \n",
    "            #Dibujar un rectángulo alrededor de cada rostro identificado, y escribir el nombre:\n",
    "            cv2.rectangle(img, (left, top), (right, bottom), color, 2)\n",
    "            cv2.rectangle(img, (left, bottom - 20), (right, bottom), color, -1)\n",
    "            cv2.putText(img, nombre, (left, bottom - 6), font, 0.6, (0,0,0), 1)\n",
    " \n",
    "        #Mostrar el resultado en una ventana:\n",
    "        cv2.imshow('Output', img)\n",
    " \n",
    "        #Salir con 'ESC'\n",
    "        k = cv2.waitKey(5) & 0xFF\n",
    "        if k == 27:\n",
    "            cv2.destroyAllWindows()\n",
    "            break\n",
    " \n",
    "webcam.release()"
   ]
  }
 ],
 "metadata": {
  "kernelspec": {
   "display_name": "Python 3",
   "language": "python",
   "name": "python3"
  },
  "language_info": {
   "codemirror_mode": {
    "name": "ipython",
    "version": 3
   },
   "file_extension": ".py",
   "mimetype": "text/x-python",
   "name": "python",
   "nbconvert_exporter": "python",
   "pygments_lexer": "ipython3",
   "version": "3.6.9"
  }
 },
 "nbformat": 4,
 "nbformat_minor": 2
}
