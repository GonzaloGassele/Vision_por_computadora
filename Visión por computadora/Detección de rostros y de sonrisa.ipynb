{
 "cells": [
  {
   "cell_type": "markdown",
   "metadata": {},
   "source": [
    "## Detector de caras y sonrisas"
   ]
  },
  {
   "cell_type": "code",
   "execution_count": 1,
   "metadata": {},
   "outputs": [],
   "source": [
    "import cv2\n",
    "import numpy as np"
   ]
  },
  {
   "cell_type": "markdown",
   "metadata": {},
   "source": [
    "### Archivos xml para la detección"
   ]
  },
  {
   "cell_type": "code",
   "execution_count": 2,
   "metadata": {},
   "outputs": [],
   "source": [
    "face_cascade = cv2.CascadeClassifier('/home/gonza/Descargas/haarcascade_frontalface_default.xml') \n",
    "eye_cascade = cv2.CascadeClassifier('/home/gonza/Descargas/haarcascade_eye.xml') \n",
    "smile_cascade = cv2.CascadeClassifier('/home/gonza/Descargas/haarcascade_smile.xml') "
   ]
  },
  {
   "cell_type": "markdown",
   "metadata": {},
   "source": [
    "Ahora, para cada rostro posterior detectado, debemos verificar si hay sonrisas"
   ]
  },
  {
   "cell_type": "code",
   "execution_count": 3,
   "metadata": {},
   "outputs": [],
   "source": [
    "def detect(gray, frame): \n",
    "    faces = face_cascade.detectMultiScale(gray, 1.3, 6)#Para detectar la cara usamos\n",
    "    for (x, y, w, h) in faces: \n",
    "        cv2.rectangle(frame, (x, y), ((x + w), (y + h)), (255, 0, 0), 2)\n",
    "        roi_gray = gray[y:y + h, x:x + w] \n",
    "        roi_color = frame[y:y + h, x:x + w]\n",
    "        cx= int(x+w/2)\n",
    "        cy= int(y+h/2)\n",
    "        cv2.circle(frame,(cx,cy),7,(255, 0, 0),-1)\n",
    "        \n",
    "        smiles = smile_cascade.detectMultiScale(roi_gray, 1.8, 20)#Para detectar sonrisas\n",
    "  \n",
    "        for (sx, sy, sw, sh) in smiles: \n",
    "            cv2.rectangle(roi_color, (sx, sy), ((sx + sw), (sy + sh)), (0, 0, 255), 2) \n",
    "    return frame"
   ]
  },
  {
   "cell_type": "markdown",
   "metadata": {},
   "source": [
    "Definimos la main función en este paso. Después de la ejecución, la función se puede terminar presionando la tecla “q”."
   ]
  },
  {
   "cell_type": "code",
   "execution_count": null,
   "metadata": {},
   "outputs": [],
   "source": [
    "video_capture = cv2.VideoCapture(0)\n",
    "while True: \n",
    "   # Captures video_capture frame by frame \n",
    "    ret, frame = video_capture.read()  \n",
    "  \n",
    "    # To capture image in monochrome                     \n",
    "    gray = cv2.cvtColor(frame, cv2.COLOR_BGR2GRAY)\n",
    "\n",
    "      \n",
    "    # calls the detect() function     \n",
    "    canvas = detect(gray, frame)                \n",
    "    \n",
    "    # Displays the result on camera feed                      \n",
    "    cv2.imshow('Video', canvas)  \n",
    "  \n",
    "    # The control breaks once q key is pressed                         \n",
    "    if cv2.waitKey(1) & 0xff == ord('q'):                \n",
    "        break\n",
    "  \n",
    "# Release the capture once all the processing is done. \n",
    "video_capture.release()                                  \n",
    "cv2.destroyAllWindows() "
   ]
  },
  {
   "cell_type": "code",
   "execution_count": null,
   "metadata": {},
   "outputs": [],
   "source": []
  },
  {
   "cell_type": "code",
   "execution_count": null,
   "metadata": {},
   "outputs": [],
   "source": []
  }
 ],
 "metadata": {
  "kernelspec": {
   "display_name": "Python 3",
   "language": "python",
   "name": "python3"
  },
  "language_info": {
   "codemirror_mode": {
    "name": "ipython",
    "version": 3
   },
   "file_extension": ".py",
   "mimetype": "text/x-python",
   "name": "python",
   "nbconvert_exporter": "python",
   "pygments_lexer": "ipython3",
   "version": "3.6.9"
  }
 },
 "nbformat": 4,
 "nbformat_minor": 2
}
